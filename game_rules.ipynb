{
 "cells": [
  {
   "cell_type": "code",
   "execution_count": 7,
   "metadata": {},
   "outputs": [],
   "source": [
    "def game_rules():\n",
    "    print(\"                       Welcome to FILMANZA               \")\n",
    "    print(\" \\n    Here are some rules which is important to go through for this game\")\n",
    "    print(\"\\n                        So here we go        \\n           \")\n",
    "    print(\" 1. There are 3 levels in this game. Easy,Medium,Hard respectively\")\n",
    "    print(\" 2. You can take the help in the form of hints. In total there are 3 hints.\")\n",
    "    print(\" 3. Totalnumber of tries in each question would be 5\")\n",
    "    print(\" 4. If you are unable to answer the question in 5 tries then unluckily you are out of the game.\")\n",
    "    print(\" 5. Now you can proceed to the game.\\n\")\n",
    "    print(\"                       Have a good time!!\")"
   ]
  },
  {
   "cell_type": "code",
   "execution_count": 8,
   "metadata": {},
   "outputs": [
    {
     "name": "stdout",
     "output_type": "stream",
     "text": [
      "                       Welcome to FILMANZA               \n",
      " \n",
      "    Here are some rules which is important to go through for this game\n",
      "\n",
      "                        So here we go        \n",
      "           \n",
      " 1. There are 3 levels in this game. Easy,Medium,Hard respectively\n",
      " 2. You can take the help in the form of hints. In total there are 3 hints.\n",
      " 3. Totalnumber of tries in each question would be 5\n",
      " 4. If you are unable to answer the question in 5 tries then unluckily you are out of the game.\n",
      " 5. Now you can proceed to the game.\n",
      "\n",
      "                       Have a good time!!\n"
     ]
    }
   ],
   "source": [
    "game_rules()"
   ]
  },
  {
   "cell_type": "code",
   "execution_count": null,
   "metadata": {},
   "outputs": [],
   "source": []
  }
 ],
 "metadata": {
  "kernelspec": {
   "display_name": "Python 3",
   "language": "python",
   "name": "python3"
  },
  "language_info": {
   "codemirror_mode": {
    "name": "ipython",
    "version": 3
   },
   "file_extension": ".py",
   "mimetype": "text/x-python",
   "name": "python",
   "nbconvert_exporter": "python",
   "pygments_lexer": "ipython3",
   "version": "3.7.4"
  }
 },
 "nbformat": 4,
 "nbformat_minor": 2
}
